{
 "cells": [
  {
   "cell_type": "code",
   "execution_count": 1,
   "metadata": {},
   "outputs": [],
   "source": [
    "import ale_py\n",
    "import gymnasium as gym\n",
    "\n",
    "from jax import numpy as jnp, random as jr, vmap\n",
    "\n",
    "from matplotlib import pyplot as plt\n",
    "\n",
    "from model import Tokenizer, forward_tokenizer, train_tokenizer"
   ]
  },
  {
   "cell_type": "code",
   "execution_count": 10,
   "metadata": {},
   "outputs": [
    {
     "name": "stdout",
     "output_type": "stream",
     "text": [
      "(870, 64, 64, 3)\n"
     ]
    }
   ],
   "source": [
    "gym.register_envs(ale_py)\n",
    "\n",
    "env = gym.make(\"ALE/Pong-v5\", render_mode=\"rgb_array\", frameskip=1)\n",
    "env = gym.wrappers.AtariPreprocessing(env, grayscale_obs=False, screen_size=(64, 64))\n",
    "\n",
    "buffer = []\n",
    "obs, info = env.reset()\n",
    "episode_over = False\n",
    "while not episode_over:\n",
    "    action = env.action_space.sample()\n",
    "    obs, reward, terminated, truncated, info = env.step(action)\n",
    "    buffer.append(obs)\n",
    "    \n",
    "    episode_over = terminated or truncated\n",
    "env.close()\n",
    "\n",
    "buffer = jnp.array(buffer) \n",
    "print(buffer.shape) "
   ]
  },
  {
   "cell_type": "code",
   "execution_count": null,
   "metadata": {},
   "outputs": [
    {
     "name": "stdout",
     "output_type": "stream",
     "text": [
      "Total patches: (55680, 192)\n",
      "9142.634\n",
      "Tokenizer codes used: 10000\n",
      "Nearest IDs for first 10 patches: [1 1 1 1 1 1 1 1 1 1]\n"
     ]
    },
    {
     "data": {
      "image/png": "[encoded data removed]",
      "text/plain": [
       "<Figure size 1200x600 with 50 Axes>"
      ]
     },
     "metadata": {},
     "output_type": "display_data"
    }
   ],
   "source": [
    "N, H, W, C = buffer.shape\n",
    "\n",
    "patch_size = 8\n",
    "height_patches = 64 // patch_size  # 8\n",
    "width_patches = 64 // patch_size  # 8\n",
    "\n",
    "patches = buffer.reshape(N, height_patches, patch_size, width_patches, patch_size, 3)\n",
    "# reorder and flatten to shape [N * 8*8, 8*8*3]\n",
    "patches = patches.transpose(\n",
    "    (0, 1, 3, 2, 4, 5)\n",
    ")  # (N, 8, 8, 8, 8, 3) => (N, 8, 8, 8, 8, 3)\n",
    "patches = patches.reshape(-1, patch_size * patch_size * 3)  # [N * 64, 192]\n",
    "\n",
    "print(\"Total patches:\", patches.shape)\n",
    "\n",
    "# 2. Initialize tokenizer\n",
    "dim = patch_size * patch_size * 3\n",
    "max_codes = 10_000\n",
    "tokenizer = Tokenizer(\n",
    "    codes=jnp.zeros((max_codes, dim), dtype=jnp.float32),\n",
    "    num_codes=1,\n",
    "    distance_threshold=10_000,  \n",
    "    max_codes=max_codes,\n",
    "    no_code_id=-1,\n",
    ")\n",
    "\n",
    "tokenizer, patch_indices = train_tokenizer(tokenizer, patches)\n",
    "print(\"Tokenizer codes used:\", tokenizer.num_codes)\n",
    "\n",
    "subset = patches[:10]\n",
    "nearest_ids = forward_tokenizer(tokenizer, subset)\n",
    "print(\"Nearest IDs for first 10 patches:\", nearest_ids)\n",
    "\n",
    "key = jr.PRNGKey(42)\n",
    "n_show = jnp.minimum(tokenizer.num_codes, 50)\n",
    "\n",
    "chosen_indices = jr.choice(key, tokenizer.num_codes, shape=(n_show,), replace=False)\n",
    "code_samples = tokenizer.codes[chosen_indices]  \n",
    "\n",
    "code_samples = jnp.clip(code_samples, 0, 255).astype(jnp.uint8)\n",
    "\n",
    "def reshape_patch(code):\n",
    "    return code.reshape(patch_size, patch_size, 3)\n",
    "\n",
    "reshaped_patches = vmap(reshape_patch)(code_samples)\n",
    "\n",
    "rows, cols = 5, 10 \n",
    "fig, axes = plt.subplots(rows, cols, figsize=(12, 6))\n",
    "\n",
    "for i, ax in enumerate(axes.flat):\n",
    "    ax.imshow(reshaped_patches[i])\n",
    "    ax.axis(\"off\")\n",
    "\n",
    "plt.tight_layout()\n",
    "plt.show()"
   ]
  }
 ],
 "metadata": {
  "kernelspec": {
   "display_name": "rgm",
   "language": "python",
   "name": "python3"
  },
  "language_info": {
   "codemirror_mode": {
    "name": "ipython",
    "version": 3
   },
   "file_extension": ".py",
   "mimetype": "text/x-python",
   "name": "python",
   "nbconvert_exporter": "python",
   "pygments_lexer": "ipython3",
   "version": "3.11.11"
  }
 },
 "nbformat": 4,
 "nbformat_minor": 2
}
